{
  "nbformat": 4,
  "nbformat_minor": 0,
  "metadata": {
    "colab": {
      "provenance": [],
      "mount_file_id": "1TmPu6CoVmaGVz7bp11PBrSD3epusBETw",
      "authorship_tag": "ABX9TyOm4Tm+HnPNF/5Eax2IERTV",
      "include_colab_link": true
    },
    "kernelspec": {
      "name": "python3",
      "display_name": "Python 3"
    },
    "language_info": {
      "name": "python"
    }
  },
  "cells": [
    {
      "cell_type": "markdown",
      "metadata": {
        "id": "view-in-github",
        "colab_type": "text"
      },
      "source": [
        "<a href=\"https://colab.research.google.com/github/PUJUNE/prac-python/blob/main/calcul.ipynb\" target=\"_parent\"><img src=\"https://colab.research.google.com/assets/colab-badge.svg\" alt=\"Open In Colab\"/></a>"
      ]
    },
    {
      "cell_type": "code",
      "source": [
        "a = int(input(\"첫번째 숫자 : \")) \n",
        "b = int(input(\"두번째 숫자 : \")) \n",
        "c = int(input(\"마지막 숫자 : \")) \n",
        "\n",
        "# result = a + b \n",
        "# print( a , \"+\" , b, \"=\", result) \n",
        "# result = a - b \n",
        "# print( a , \"-\" , b, \"=\", result) \n",
        "# result = a * b \n",
        "# print( a , \"*\" , b, \"=\", result) \n",
        "# result = a / b \n",
        "# print( a , \"/\" , b, \"=\", result) \n",
        "\n",
        "\n",
        "result = a + b + c\n",
        "print(\"plus\",\"=\",result) \n",
        "result = a - b - c\n",
        "print(\"minus\",\"=\",result) \n",
        "result = a * b * c\n",
        "print(\"multiple\",\"=\",result) \n",
        "result = a / b / c\n",
        "print(\"divide\",\"=\",result) "
      ],
      "metadata": {
        "colab": {
          "base_uri": "https://localhost:8080/"
        },
        "id": "1julPAs1U7F7",
        "outputId": "48abddea-53ea-46e7-a834-78725bc0388a"
      },
      "execution_count": null,
      "outputs": [
        {
          "output_type": "stream",
          "name": "stdout",
          "text": [
            "첫번째 숫자 : 2\n",
            "두번째 숫자 : 5\n",
            "마지막 숫자 : 6\n",
            "plus = 13\n",
            "minus = -9\n",
            "multiple = 60\n",
            "divide = 0.06666666666666667\n"
          ]
        }
      ]
    },
    {
      "cell_type": "markdown",
      "source": [
        "for 문 연습"
      ],
      "metadata": {
        "id": "vi0eOrqBmFgu"
      }
    },
    {
      "cell_type": "code",
      "source": [
        "score = [20, 30, 80, 60, 15]\n",
        "\n",
        "#40점이 넘으면 합격\n",
        "\n",
        "num = 0\n",
        "\n",
        "for s in score:\n",
        "  num = num + 1\n",
        "  if s > 40:\n",
        "    print(\"%d번째는 합격입니다.\" %num)\n",
        "  else:\n",
        "    print(\"%d번째는 불합격입니다.\"%num)\n"
      ],
      "metadata": {
        "colab": {
          "base_uri": "https://localhost:8080/"
        },
        "id": "IdTM-4JnmHx_",
        "outputId": "fd2fbc12-6b27-40a5-c855-d0ed268787fd"
      },
      "execution_count": null,
      "outputs": [
        {
          "output_type": "stream",
          "name": "stdout",
          "text": [
            "1번째는 불합격입니다.\n",
            "2번째는 불합격입니다.\n",
            "3번째는 합격입니다.\n",
            "4번째는 합격입니다.\n",
            "5번째는 불합격입니다.\n"
          ]
        }
      ]
    },
    {
      "cell_type": "code",
      "source": [
        "# 1000\n",
        "print(\"공백을 사이에 두고 두개의 숫자를 입력하시오\")\n",
        "ab = input()\n",
        "n = ab.split()\n",
        "print(n[0] + n[1])\n",
        "print(int(float(n[0]))+int(float(n[1])))"
      ],
      "metadata": {
        "colab": {
          "base_uri": "https://localhost:8080/"
        },
        "id": "Lm6XUwzAdezm",
        "outputId": "072c52e7-cbe2-4b0e-d4a3-cc712ce12eac"
      },
      "execution_count": 25,
      "outputs": [
        {
          "output_type": "stream",
          "name": "stdout",
          "text": [
            "공백을 사이에 두고 두개의 숫자를 입력하시오\n",
            "2 3\n",
            "23\n",
            "5\n"
          ]
        }
      ]
    },
    {
      "cell_type": "code",
      "source": [
        "# 1008\n",
        "print(\"공백을 사이에 두고 두개의 숫자를 입력하시오\")\n",
        "ab = input()\n",
        "n = ab.split()\n",
        "print(float(n[0])/float(n[1]))\n",
        "print(int(n[0])/int(n[1]))\n",
        "\n",
        "print(int(float(n[0])/float(n[1])))\n",
        "print(float(int(n[0])/int(n[1])))"
      ],
      "metadata": {
        "colab": {
          "base_uri": "https://localhost:8080/"
        },
        "id": "51PJwvZRfXHE",
        "outputId": "a9435a73-94ff-4916-bacc-b06ab6dcaa3d"
      },
      "execution_count": 22,
      "outputs": [
        {
          "output_type": "stream",
          "name": "stdout",
          "text": [
            "공백을 사이에 두고 두개의 숫자를 입력하시오\n",
            "3 5\n",
            "0.6\n",
            "0.6\n",
            "0\n",
            "0.6\n"
          ]
        }
      ]
    },
    {
      "cell_type": "code",
      "source": [
        "b = [\"3.3\",\"2.2\"]\n",
        "# print(int(b[0])/int(b[1]))\n",
        "print(float(b[0])/float(b[1]))\n",
        "# 실수 형태의 string -> int 캐스팅 불가\n",
        "#  실수 형태의 string -> float -> int 캐스팅 가능 "
      ],
      "metadata": {
        "colab": {
          "base_uri": "https://localhost:8080/"
        },
        "id": "KwLavM6miGjF",
        "outputId": "91ff4d81-1c8c-42fc-94ec-1aa7090cce1a"
      },
      "execution_count": 28,
      "outputs": [
        {
          "output_type": "stream",
          "name": "stdout",
          "text": [
            "1.4999999999999998\n"
          ]
        }
      ]
    }
  ]
}