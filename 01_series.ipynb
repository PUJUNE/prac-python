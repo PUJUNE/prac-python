{
  "nbformat": 4,
  "nbformat_minor": 0,
  "metadata": {
    "colab": {
      "provenance": [],
      "authorship_tag": "ABX9TyPDGAJ8+nYK6ve7CLRmyU8k",
      "include_colab_link": true
    },
    "kernelspec": {
      "name": "python3",
      "display_name": "Python 3"
    },
    "language_info": {
      "name": "python"
    }
  },
  "cells": [
    {
      "cell_type": "markdown",
      "metadata": {
        "id": "view-in-github",
        "colab_type": "text"
      },
      "source": [
        "<a href=\"https://colab.research.google.com/github/PUJUNE/prac-python/blob/main/01_series.ipynb\" target=\"_parent\"><img src=\"https://colab.research.google.com/assets/colab-badge.svg\" alt=\"Open In Colab\"/></a>"
      ]
    },
    {
      "cell_type": "code",
      "execution_count": 1,
      "metadata": {
        "id": "C2BHwA8UTa0h"
      },
      "outputs": [],
      "source": [
        "import pandas as np"
      ]
    },
    {
      "cell_type": "code",
      "source": [
        "#시리즈, 정수 실수 문자열 etc\n",
        "\n",
        "##시리즈 객체생성\n",
        "\n",
        "temp = np.Series([-20, -10, 10, 20])\n",
        "# print(temp)\n",
        "temp"
      ],
      "metadata": {
        "colab": {
          "base_uri": "https://localhost:8080/"
        },
        "id": "ZuZkykZgUCl9",
        "outputId": "d1b4ce0b-8bb4-4564-cfdd-6b008674c7e1"
      },
      "execution_count": 5,
      "outputs": [
        {
          "output_type": "execute_result",
          "data": {
            "text/plain": [
              "0   -20\n",
              "1   -10\n",
              "2    10\n",
              "3    20\n",
              "dtype: int64"
            ]
          },
          "metadata": {},
          "execution_count": 5
        }
      ]
    }
  ]
}